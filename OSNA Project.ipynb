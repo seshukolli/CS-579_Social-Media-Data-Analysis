{
 "cells": [
  {
   "cell_type": "code",
   "execution_count": 1,
   "id": "c3be0e83",
   "metadata": {},
   "outputs": [
    {
     "ename": "SyntaxError",
     "evalue": "invalid syntax (Temp/ipykernel_12544/3993956815.py, line 5)",
     "output_type": "error",
     "traceback": [
      "\u001b[1;36m  File \u001b[1;32m\"C:\\Users\\seshu\\AppData\\Local\\Temp/ipykernel_12544/3993956815.py\"\u001b[1;36m, line \u001b[1;32m5\u001b[0m\n\u001b[1;33m    auth = tweepy.OAuth1UserHandler(wVuKljZV5AjRs01h1Vn4Wf6ej,cF1yMmTIX6e1NbLP14Q9mdkoIPdIeJCl97fqkfRAEPLEiH6mMX,AAAAAAAAAAAAAAAAAAAAALjOlQEAAAAAYqVpeUKBvtHf6cld658gIfhYQlU%3DDLYY3h4NRP1VA0GvbhOkZ2mF86sCS19AhDVXvfDq20hSYq4FtJ)\u001b[0m\n\u001b[1;37m                                                                                                                                                                              ^\u001b[0m\n\u001b[1;31mSyntaxError\u001b[0m\u001b[1;31m:\u001b[0m invalid syntax\n"
     ]
    }
   ],
   "source": [
    "import tweepy\n",
    "\n",
    "# Authenticate using the keys\n",
    "\n",
    "auth = tweepy.OAuth1UserHandler(wVuKljZV5AjRs01h1Vn4Wf6ej,cF1yMmTIX6e1NbLP14Q9mdkoIPdIeJCl97fqkfRAEPLEiH6mMX,AAAAAAAAAAAAAAAAAAAAALjOlQEAAAAAYqVpeUKBvtHf6cld658gIfhYQlU%3DDLYY3h4NRP1VA0GvbhOkZ2mF86sCS19AhDVXvfDq20hSYq4FtJ)\n",
    "\n",
    "# Create an API object\n",
    "api = tweepy.API(auth)"
   ]
  },
  {
   "cell_type": "code",
   "execution_count": 2,
   "id": "91927b22",
   "metadata": {},
   "outputs": [
    {
     "name": "stdout",
     "output_type": "stream",
     "text": [
      "4.12.1\n"
     ]
    }
   ],
   "source": [
    "import tweepy as tw\n",
    "\n",
    "print(tw.__version__)"
   ]
  },
  {
   "cell_type": "code",
   "execution_count": null,
   "id": "381ac6c0",
   "metadata": {},
   "outputs": [],
   "source": [
    "import tweepy\n",
    "\n",
    "client = tweepy.Client(bearer_token='AAAAAAAAAAAAAAAAAAAAALjOlQEAAAAA31WhyMUhE0RMQcYNht58BS7rgFA%3Dz1EDYXeA3IxPVXs8xKRMiHmg2LsdoD5LUYbJAIZUj609R0wfeF')\n",
    "\n",
    "\n",
    "query = '#home -is:retweet lang:en'\n",
    "tweets = tweepy.Paginator(client.search_recent_tweets, query=query,\n",
    "                              tweet_fields=['context_annotations', 'created_at'], max_results=100).flatten(limit=1000)\n",
    "\n",
    "for tweet in tweets:\n",
    "    print(tweet.text)\n",
    "    if len(tweet.context_annotations) > 0:\n",
    "        print(tweet.context_annotations)"
   ]
  },
  {
   "cell_type": "code",
   "execution_count": 1,
   "id": "95c63ebc",
   "metadata": {},
   "outputs": [
    {
     "ename": "Unauthorized",
     "evalue": "401 Unauthorized\nUnauthorized",
     "output_type": "error",
     "traceback": [
      "\u001b[1;31m---------------------------------------------------------------------------\u001b[0m",
      "\u001b[1;31mUnauthorized\u001b[0m                              Traceback (most recent call last)",
      "\u001b[1;32m~\\AppData\\Local\\Temp/ipykernel_8604/2672391692.py\u001b[0m in \u001b[0;36m<module>\u001b[1;34m\u001b[0m\n\u001b[0;32m      6\u001b[0m \u001b[1;33m\u001b[0m\u001b[0m\n\u001b[0;32m      7\u001b[0m \u001b[0mUname\u001b[0m\u001b[1;33m=\u001b[0m\u001b[1;34m\"POTUS\"\u001b[0m\u001b[1;33m\u001b[0m\u001b[1;33m\u001b[0m\u001b[0m\n\u001b[1;32m----> 8\u001b[1;33m \u001b[0mn\u001b[0m\u001b[1;33m=\u001b[0m\u001b[0mclient\u001b[0m\u001b[1;33m.\u001b[0m\u001b[0mget_user\u001b[0m\u001b[1;33m(\u001b[0m\u001b[0musername\u001b[0m\u001b[1;33m=\u001b[0m\u001b[1;34m\"POTUS\"\u001b[0m\u001b[1;33m)\u001b[0m\u001b[1;33m\u001b[0m\u001b[1;33m\u001b[0m\u001b[0m\n\u001b[0m\u001b[0;32m      9\u001b[0m \u001b[0mprint\u001b[0m\u001b[1;33m(\u001b[0m\u001b[0mn\u001b[0m\u001b[1;33m)\u001b[0m\u001b[1;33m\u001b[0m\u001b[1;33m\u001b[0m\u001b[0m\n\u001b[0;32m     10\u001b[0m \u001b[1;31m#print(n.data.id)\u001b[0m\u001b[1;33m\u001b[0m\u001b[1;33m\u001b[0m\u001b[0m\n",
      "\u001b[1;32m~\\anaconda3\\lib\\site-packages\\tweepy\\client.py\u001b[0m in \u001b[0;36mget_user\u001b[1;34m(self, id, username, user_auth, **params)\u001b[0m\n\u001b[0;32m   2439\u001b[0m             \u001b[1;32mraise\u001b[0m \u001b[0mTypeError\u001b[0m\u001b[1;33m(\u001b[0m\u001b[1;34m\"ID or username is required\"\u001b[0m\u001b[1;33m)\u001b[0m\u001b[1;33m\u001b[0m\u001b[1;33m\u001b[0m\u001b[0m\n\u001b[0;32m   2440\u001b[0m \u001b[1;33m\u001b[0m\u001b[0m\n\u001b[1;32m-> 2441\u001b[1;33m         return self._make_request(\n\u001b[0m\u001b[0;32m   2442\u001b[0m             \u001b[1;34m\"GET\"\u001b[0m\u001b[1;33m,\u001b[0m \u001b[0mroute\u001b[0m\u001b[1;33m,\u001b[0m \u001b[0mparams\u001b[0m\u001b[1;33m=\u001b[0m\u001b[0mparams\u001b[0m\u001b[1;33m,\u001b[0m\u001b[1;33m\u001b[0m\u001b[1;33m\u001b[0m\u001b[0m\n\u001b[0;32m   2443\u001b[0m             \u001b[0mendpoint_parameters\u001b[0m\u001b[1;33m=\u001b[0m\u001b[1;33m(\u001b[0m\u001b[1;34m\"expansions\"\u001b[0m\u001b[1;33m,\u001b[0m \u001b[1;34m\"tweet.fields\"\u001b[0m\u001b[1;33m,\u001b[0m \u001b[1;34m\"user.fields\"\u001b[0m\u001b[1;33m)\u001b[0m\u001b[1;33m,\u001b[0m\u001b[1;33m\u001b[0m\u001b[1;33m\u001b[0m\u001b[0m\n",
      "\u001b[1;32m~\\anaconda3\\lib\\site-packages\\tweepy\\client.py\u001b[0m in \u001b[0;36m_make_request\u001b[1;34m(self, method, route, params, endpoint_parameters, json, data_type, user_auth)\u001b[0m\n\u001b[0;32m    127\u001b[0m         \u001b[0mrequest_params\u001b[0m \u001b[1;33m=\u001b[0m \u001b[0mself\u001b[0m\u001b[1;33m.\u001b[0m\u001b[0m_process_params\u001b[0m\u001b[1;33m(\u001b[0m\u001b[0mparams\u001b[0m\u001b[1;33m,\u001b[0m \u001b[0mendpoint_parameters\u001b[0m\u001b[1;33m)\u001b[0m\u001b[1;33m\u001b[0m\u001b[1;33m\u001b[0m\u001b[0m\n\u001b[0;32m    128\u001b[0m \u001b[1;33m\u001b[0m\u001b[0m\n\u001b[1;32m--> 129\u001b[1;33m         response = self.request(method, route, params=request_params,\n\u001b[0m\u001b[0;32m    130\u001b[0m                                 json=json, user_auth=user_auth)\n\u001b[0;32m    131\u001b[0m \u001b[1;33m\u001b[0m\u001b[0m\n",
      "\u001b[1;32m~\\anaconda3\\lib\\site-packages\\tweepy\\client.py\u001b[0m in \u001b[0;36mrequest\u001b[1;34m(self, method, route, params, json, user_auth)\u001b[0m\n\u001b[0;32m     96\u001b[0m                 \u001b[1;32mraise\u001b[0m \u001b[0mBadRequest\u001b[0m\u001b[1;33m(\u001b[0m\u001b[0mresponse\u001b[0m\u001b[1;33m)\u001b[0m\u001b[1;33m\u001b[0m\u001b[1;33m\u001b[0m\u001b[0m\n\u001b[0;32m     97\u001b[0m             \u001b[1;32mif\u001b[0m \u001b[0mresponse\u001b[0m\u001b[1;33m.\u001b[0m\u001b[0mstatus_code\u001b[0m \u001b[1;33m==\u001b[0m \u001b[1;36m401\u001b[0m\u001b[1;33m:\u001b[0m\u001b[1;33m\u001b[0m\u001b[1;33m\u001b[0m\u001b[0m\n\u001b[1;32m---> 98\u001b[1;33m                 \u001b[1;32mraise\u001b[0m \u001b[0mUnauthorized\u001b[0m\u001b[1;33m(\u001b[0m\u001b[0mresponse\u001b[0m\u001b[1;33m)\u001b[0m\u001b[1;33m\u001b[0m\u001b[1;33m\u001b[0m\u001b[0m\n\u001b[0m\u001b[0;32m     99\u001b[0m             \u001b[1;32mif\u001b[0m \u001b[0mresponse\u001b[0m\u001b[1;33m.\u001b[0m\u001b[0mstatus_code\u001b[0m \u001b[1;33m==\u001b[0m \u001b[1;36m403\u001b[0m\u001b[1;33m:\u001b[0m\u001b[1;33m\u001b[0m\u001b[1;33m\u001b[0m\u001b[0m\n\u001b[0;32m    100\u001b[0m                 \u001b[1;32mraise\u001b[0m \u001b[0mForbidden\u001b[0m\u001b[1;33m(\u001b[0m\u001b[0mresponse\u001b[0m\u001b[1;33m)\u001b[0m\u001b[1;33m\u001b[0m\u001b[1;33m\u001b[0m\u001b[0m\n",
      "\u001b[1;31mUnauthorized\u001b[0m: 401 Unauthorized\nUnauthorized"
     ]
    }
   ],
   "source": [
    "import tweepy\n",
    "import networkx as nx\n",
    "\n",
    "\n",
    "client = tweepy.Client(bearer_token='AAAAAAAAAAAAAAAAAAAAALjOlQEAAAAAu%2F5ravSxYEZqX7LACux64uEHS7c%3DQzkXIQgrQzsdlgKJrSZOGIMVjpggHCde6Ijmfck0iGUJfhsgoK')\n",
    "\n",
    "Uname=\"POTUS\"\n",
    "n=client.get_user(username=\"POTUS\")\n",
    "print(n)\n",
    "#print(n.data.id)\n",
    "followers=client.get_users_followers(n.data.id)\n",
    "print(followers)\n"
   ]
  },
  {
   "cell_type": "code",
   "execution_count": 2,
   "id": "7a019a31",
   "metadata": {},
   "outputs": [
    {
     "data": {
      "image/png": "[encoded data removed]",
      "text/plain": [
       "<Figure size 432x288 with 1 Axes>"
      ]
     },
     "metadata": {},
     "output_type": "display_data"
    }
   ],
   "source": [
    "import networkx as nx\n",
    "import matplotlib.pyplot as plt\n",
    "\n",
    "# Create a new graph\n",
    "G = nx.Graph()\n",
    "\n",
    "# Add nodes and edges\n",
    "G.add_nodes_from([1, 2])\n",
    "G.add_edge(1, 2)\n",
    "\n",
    "# Draw the graph\n",
    "nx.draw(G)\n",
    "\n",
    "# Show the plot\n",
    "plt.show()"
   ]
  },
  {
   "cell_type": "code",
   "execution_count": 2,
   "id": "e5503eaf",
   "metadata": {},
   "outputs": [],
   "source": [
    "import tweepy\n",
    "client = tweepy.Client(bearer_token='AAAAAAAAAAAAAAAAAAAAALjOlQEAAAAAu%2F5ravSxYEZqX7LACux64uEHS7c%3DQzkXIQgrQzsdlgKJrSZOGIMVjpggHCde6Ijmfck0iGUJfhsgoK')"
   ]
  },
  {
   "cell_type": "code",
   "execution_count": null,
   "id": "0eee99ce",
   "metadata": {
    "scrolled": false
   },
   "outputs": [],
   "source": [
    "import tweepy\n",
    "import networkx as nx\n",
    "import matplotlib.pyplot as plt\n",
    "\n",
    "client = tweepy.Client(bearer_token='AAAAAAAAAAAAAAAAAAAAALjOlQEAAAAAJe4%2FZoAaZ61jI9QIfqGdDanaHyA%3D6jOMX1jlJMPONjwpz2fu5jhuGECe8ye8mNACGGCV8gkYI8G2mS',wait_on_rate_limit=True)\n",
    "#print(client)\n",
    "Uname=\"POTUS\"\n",
    "n=client.get_user(username=\"POTUS\")\n",
    "print(n)\n",
    "#print(n.data.id)\n",
    "followers=client.get_users_followers(n.data.id,max_results=50)\n",
    "f=followers.data\n",
    "#print(followers)\n",
    "\n",
    "print(type(f))\n",
    "\n",
    "G = nx.DiGraph()\n",
    "G.add_node(n.data.username)\n",
    "flag=0\n",
    "for i in f:\n",
    "    G.add_node(i.username)\n",
    "    G.add_edge(i.username,n.data.username)\n",
    "    f1=client.get_users_followers(i.id,max_results=30)\n",
    "    f11=f1.data\n",
    "    if(f11== None):\n",
    "            continue\n",
    "    else:\n",
    "        for j in f11:\n",
    "            G.add_node(j.username)\n",
    "            G.add_edge(j.username,i.username)\n",
    "    \n",
    "nx.draw(G)\n",
    "\n",
    "plt.show()"
   ]
  },
  {
   "cell_type": "code",
   "execution_count": null,
   "id": "54ce490a",
   "metadata": {},
   "outputs": [],
   "source": [
    "f1=client.get_users_followers(i.id,max_results=10)\n",
    "     print(f1)\n",
    "     f11=f1.data\n",
    "     if(f11 is None):\n",
    "         continue\n",
    "     for j in f11:\n",
    "         G.add_node(j.username)\n",
    "         G.add_edge(j.username,i.username)"
   ]
  },
  {
   "cell_type": "code",
   "execution_count": null,
   "id": "176bcc3b",
   "metadata": {},
   "outputs": [
    {
     "name": "stderr",
     "output_type": "stream",
     "text": [
      "Rate limit exceeded. Sleeping for 714 seconds.\n"
     ]
    }
   ],
   "source": [
    "import tweepy\n",
    "import networkx as nx\n",
    "import pandas as pd\n",
    "import matplotlib.pyplot as plt\n",
    "\n",
    "\n",
    "client = tweepy.Client(bearer_token='AAAAAAAAAAAAAAAAAAAAALjOlQEAAAAAJe4%2FZoAaZ61jI9QIfqGdDanaHyA%3D6jOMX1jlJMPONjwpz2fu5jhuGECe8ye8mNACGGCV8gkYI8G2mS',wait_on_rate_limit=True)\n",
    "\n",
    "Uname=\"realDonaldTrump\"\n",
    "n=client.get_user(username=\"realDonaldTrump\")\n",
    "\n",
    "followers=client.get_users_followers(n.data.id,max_results=30)\n",
    "f=followers.data\n",
    "\n",
    "\n",
    "G = nx.DiGraph()\n",
    "G.add_node(n.data.username)\n",
    "\n",
    "for i in f:\n",
    "    G.add_node(i.username)\n",
    "    G.add_edge(i.username,n.data.username)\n",
    "    f1=client.get_users_followers(i.id,max_results=25)\n",
    "    f11=f1.data\n",
    "    if(f11== None):\n",
    "            continue\n",
    "    else:\n",
    "        for j in f11:\n",
    "            G.add_node(j.username)\n",
    "            G.add_edge(j.username,i.username)\n",
    "\n",
    "edges = [(u,v) for (u,v,d) in G.edges(data=True)]\n",
    "\n",
    "# Organize the edges into columns and rows\n",
    "df = pd.DataFrame(edges, columns=[\"Source\", \"Target\"])\n",
    "\n",
    "# Save the data as a CSV file\n",
    "df.to_csv(\"twitter_network4.csv\", index=False)\n",
    "print('DONE')"
   ]
  },
  {
   "cell_type": "code",
   "execution_count": 4,
   "id": "5039e39c",
   "metadata": {},
   "outputs": [
    {
     "ename": "SyntaxError",
     "evalue": "(unicode error) 'unicodeescape' codec can't decode bytes in position 2-3: truncated \\UXXXXXXXX escape (Temp/ipykernel_17088/2913425926.py, line 5)",
     "output_type": "error",
     "traceback": [
      "\u001b[1;36m  File \u001b[1;32m\"C:\\Users\\seshu\\AppData\\Local\\Temp/ipykernel_17088/2913425926.py\"\u001b[1;36m, line \u001b[1;32m5\u001b[0m\n\u001b[1;33m    data = pd.read_csv(\"C:\\Users\\seshu\\Desktop\\twitter_network.csv\")\u001b[0m\n\u001b[1;37m                                                                   ^\u001b[0m\n\u001b[1;31mSyntaxError\u001b[0m\u001b[1;31m:\u001b[0m (unicode error) 'unicodeescape' codec can't decode bytes in position 2-3: truncated \\UXXXXXXXX escape\n"
     ]
    }
   ],
   "source": [
    "import networkx as nx\n",
    "import matplotlib.pyplot as plt\n",
    "\n",
    "import pandas as pd\n",
    "data = pd.read_csv(\"C:\\Users\\seshu\\Desktop\\twitter_network.csv\")\n",
    "\n",
    "data"
   ]
  },
  {
   "cell_type": "code",
   "execution_count": 10,
   "id": "5e26c38a",
   "metadata": {},
   "outputs": [
    {
     "data": {
      "image/png": "[encoded data removed]",
      "text/plain": [
       "<Figure size 432x288 with 1 Axes>"
      ]
     },
     "metadata": {
      "needs_background": "light"
     },
     "output_type": "display_data"
    }
   ],
   "source": [
    "import csv\n",
    "import networkx as nx\n",
    "import matplotlib.pyplot as plt\n",
    "\n",
    "G = nx.Graph()\n",
    "\n",
    "# Read the CSV file\n",
    "with open('C:/Users/seshu/Desktop/twitter_network.csv', 'r') as file:\n",
    "    reader = csv.reader(file)\n",
    "    headers = next(reader)  # skip the header row\n",
    "    for row in reader:\n",
    "        # add an edge between the first and second columns of the row\n",
    "        G.add_edge(row[0], row[1])\n",
    "\n",
    "# Calculate the degree distribution\n",
    "degree_sequence = [d for n, d in G.degree()]\n",
    "\n",
    "# Plot the degree distribution as a histogram\n",
    "plt.hist(degree_sequence, bins=range(max(degree_sequence)+1))\n",
    "plt.xlabel('Degree')\n",
    "plt.ylabel('Frequency')\n",
    "plt.title('Degree Distribution of the Graph')\n",
    "plt.show()\n"
   ]
  },
  {
   "cell_type": "code",
   "execution_count": null,
   "id": "5c968af0",
   "metadata": {},
   "outputs": [],
   "source": [
    "with open('C:/Users/seshu/Desktop/twitter_network.csv', 'r') as file:\n"
   ]
  },
  {
   "cell_type": "code",
   "execution_count": 12,
   "id": "3066289f",
   "metadata": {},
   "outputs": [
    {
     "data": {
      "image/png": "[encoded data removed]",
      "text/plain": [
       "<Figure size 1440x360 with 3 Axes>"
      ]
     },
     "metadata": {
      "needs_background": "light"
     },
     "output_type": "display_data"
    }
   ],
   "source": [
    "import csv\n",
    "import networkx as nx\n",
    "import matplotlib.pyplot as plt\n",
    "\n",
    "G = nx.Graph()\n",
    "\n",
    "# Read the CSV file\n",
    "with open('C:/Users/seshu/Desktop/twitter_network.csv', 'r') as file:\n",
    "    reader = csv.reader(file)\n",
    "    headers = next(reader)  # skip the header row\n",
    "    for row in reader:\n",
    "        # add an edge between the first and second columns of the row\n",
    "        G.add_edge(row[0], row[1])\n",
    "\n",
    "# Calculate the degree, clustering coefficient, and PageRank distributions\n",
    "degree_sequence = [d for n, d in G.degree()]\n",
    "clustering_sequence = nx.clustering(G).values()\n",
    "pagerank_sequence = nx.pagerank(G).values()\n",
    "\n",
    "# Plot the degree, clustering coefficient, and PageRank distributions as histograms\n",
    "fig, ax = plt.subplots(1, 3, figsize=(20, 5))\n",
    "ax[0].hist(degree_sequence, bins=range(max(degree_sequence)+1))\n",
    "ax[0].set_xlabel('Degree')\n",
    "ax[0].set_ylabel('Frequency')\n",
    "ax[0].set_title('Degree Distribution of the Graph')\n",
    "ax[1].hist(clustering_sequence, bins=20)\n",
    "ax[1].set_xlabel('Clustering Coefficient')\n",
    "ax[1].set_ylabel('Frequency')\n",
    "ax[1].set_title('Clustering Coefficient Distribution of the Graph')\n",
    "ax[2].hist(pagerank_sequence, bins=20)\n",
    "ax[2].set_xlabel('PageRank')\n",
    "ax[2].set_ylabel('Frequency')\n",
    "ax[2].set_title('PageRank Distribution of the Graph')\n",
    "plt.show()\n"
   ]
  },
  {
   "cell_type": "code",
   "execution_count": null,
   "id": "92e73034",
   "metadata": {},
   "outputs": [],
   "source": []
  },
  {
   "cell_type": "code",
   "execution_count": null,
   "id": "96075759",
   "metadata": {},
   "outputs": [],
   "source": []
  },
  {
   "cell_type": "code",
   "execution_count": null,
   "id": "ed4ad6b2",
   "metadata": {},
   "outputs": [],
   "source": []
  },
  {
   "cell_type": "code",
   "execution_count": null,
   "id": "f4450c21",
   "metadata": {},
   "outputs": [],
   "source": []
  }
 ],
 "metadata": {
  "kernelspec": {
   "display_name": "Python 3 (ipykernel)",
   "language": "python",
   "name": "python3"
  },
  "language_info": {
   "codemirror_mode": {
    "name": "ipython",
    "version": 3
   },
   "file_extension": ".py",
   "mimetype": "text/x-python",
   "name": "python",
   "nbconvert_exporter": "python",
   "pygments_lexer": "ipython3",
   "version": "3.9.7"
  }
 },
 "nbformat": 4,
 "nbformat_minor": 5
}
